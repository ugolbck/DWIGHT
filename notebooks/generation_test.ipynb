{
 "cells": [
  {
   "cell_type": "code",
   "execution_count": 9,
   "metadata": {},
   "outputs": [],
   "source": [
    "# keras module for building LSTM \n",
    "from keras.preprocessing.sequence import pad_sequences\n",
    "from keras.layers import Embedding, LSTM, Dense, Dropout\n",
    "from keras.preprocessing.text import Tokenizer\n",
    "from keras.callbacks import EarlyStopping\n",
    "from keras.models import Sequential\n",
    "import keras.utils as ku \n",
    "\n",
    "# set seeds for reproducability\n",
    "from numpy.random import seed\n",
    "seed(1)\n",
    "\n",
    "import sentencepiece as spm\n",
    "import pandas as pd\n",
    "import numpy as np\n",
    "import string, os\n",
    "\n",
    "import warnings\n",
    "warnings.filterwarnings(\"ignore\")\n",
    "warnings.simplefilter(action='ignore', category=FutureWarning)"
   ]
  },
  {
   "cell_type": "code",
   "execution_count": 10,
   "metadata": {},
   "outputs": [
    {
     "data": {
      "text/plain": [
       "True"
      ]
     },
     "execution_count": 10,
     "metadata": {},
     "output_type": "execute_result"
    }
   ],
   "source": [
    "sp = spm.SentencePieceProcessor()\n",
    "sp.load('m-2000.model')"
   ]
  },
  {
   "cell_type": "code",
   "execution_count": 18,
   "metadata": {},
   "outputs": [],
   "source": [
    "def text_to_ids(processor, corpus):\n",
    "    total_words = sp.get_piece_size()\n",
    "    \n",
    "    corpus_as_ids = []\n",
    "    for line in corpus:\n",
    "        subtokens = sp.encode_as_ids(line)\n",
    "        for i in range(1, len(subtokens)):\n",
    "            n_gram_sequence = subtokens[:i+1]\n",
    "            corpus_as_ids.append(n_gram_sequence)\n",
    "    return corpus_as_ids, total_words"
   ]
  },
  {
   "cell_type": "code",
   "execution_count": 19,
   "metadata": {},
   "outputs": [],
   "source": [
    "with open('../data/raw/dwight-s1.txt', 'r') as input_d:\n",
    "    corpus = input_d.readlines()\n",
    "\n",
    "X, len_vocab = text_to_ids(sp, corpus)"
   ]
  },
  {
   "cell_type": "code",
   "execution_count": 61,
   "metadata": {},
   "outputs": [],
   "source": [
    "def sequence_padding(tok_corpus):\n",
    "    max_len = max([len(x) for x in tok_corpus])\n",
    "    tok_corpus = np.array(pad_sequences(tok_corpus, maxlen=max_len, padding='pre'))\n",
    "    \n",
    "    predictors, label = tok_corpus[:,:-1], tok_corpus[:,-1]\n",
    "    label = ku.to_categorical(label, num_classes=len_vocab)\n",
    "    return predictors, label, max_len\n",
    "\n",
    "predictors, label, max_len = sequence_padding(X)"
   ]
  },
  {
   "cell_type": "code",
   "execution_count": 65,
   "metadata": {},
   "outputs": [
    {
     "name": "stdout",
     "output_type": "stream",
     "text": [
      "Model: \"sequential_1\"\n",
      "_________________________________________________________________\n",
      "Layer (type)                 Output Shape              Param #   \n",
      "=================================================================\n",
      "embedding_1 (Embedding)      (None, 196, 10)           20000     \n",
      "_________________________________________________________________\n",
      "lstm_1 (LSTM)                (None, 100)               44400     \n",
      "_________________________________________________________________\n",
      "dropout_1 (Dropout)          (None, 100)               0         \n",
      "_________________________________________________________________\n",
      "dense_1 (Dense)              (None, 2000)              202000    \n",
      "=================================================================\n",
      "Total params: 266,400\n",
      "Trainable params: 266,400\n",
      "Non-trainable params: 0\n",
      "_________________________________________________________________\n"
     ]
    }
   ],
   "source": [
    "def create_model(max_sequence_len, total_words):\n",
    "    input_len = max_sequence_len - 1\n",
    "    model = Sequential()\n",
    "    \n",
    "    # Add Input Embedding Layer\n",
    "    model.add(Embedding(total_words, 10, input_length=input_len))\n",
    "    \n",
    "    # Add Hidden Layer 1 - LSTM Layer\n",
    "    model.add(LSTM(100))\n",
    "    model.add(Dropout(0.1))\n",
    "    \n",
    "    # Add Output Layer\n",
    "    model.add(Dense(total_words, activation='softmax'))\n",
    "\n",
    "    model.compile(loss='categorical_crossentropy', optimizer='adam')\n",
    "    \n",
    "    return model\n",
    "\n",
    "model = create_model(max_len, len_vocab)\n",
    "model.summary()"
   ]
  },
  {
   "cell_type": "code",
   "execution_count": 67,
   "metadata": {},
   "outputs": [
    {
     "name": "stdout",
     "output_type": "stream",
     "text": [
      "Epoch 1/10\n",
      "25189/25189 [==============================] - 94s 4ms/step - loss: 5.8102\n",
      "Epoch 2/10\n",
      "25189/25189 [==============================] - 99s 4ms/step - loss: 5.5959\n",
      "Epoch 3/10\n",
      "25189/25189 [==============================] - 101s 4ms/step - loss: 5.3635\n",
      "Epoch 4/10\n",
      "25189/25189 [==============================] - 112s 4ms/step - loss: 5.1330\n",
      "Epoch 5/10\n",
      "25189/25189 [==============================] - 105s 4ms/step - loss: 4.9342\n",
      "Epoch 6/10\n",
      "25189/25189 [==============================] - 102s 4ms/step - loss: 4.7765\n",
      "Epoch 7/10\n",
      "25189/25189 [==============================] - 100s 4ms/step - loss: 4.6425\n",
      "Epoch 8/10\n",
      "25189/25189 [==============================] - 101s 4ms/step - loss: 4.5237\n",
      "Epoch 9/10\n",
      "25189/25189 [==============================] - 103s 4ms/step - loss: 4.4177\n",
      "Epoch 10/10\n",
      "25189/25189 [==============================] - 99s 4ms/step - loss: 4.3096\n"
     ]
    },
    {
     "data": {
      "text/plain": [
       "<keras.callbacks.callbacks.History at 0x139e6fba8>"
      ]
     },
     "execution_count": 67,
     "metadata": {},
     "output_type": "execute_result"
    }
   ],
   "source": [
    "model.fit(predictors, label, epochs=10, verbose=1)"
   ]
  },
  {
   "cell_type": "code",
   "execution_count": 80,
   "metadata": {},
   "outputs": [],
   "source": [
    "def generate_text(processor, seed_text, next_words, model, max_sequence_len):\n",
    "    for _ in range(next_words):\n",
    "        subtokens = sp.encode_as_ids(seed_text)\n",
    "        subtokens = pad_sequences([subtokens], maxlen=max_sequence_len-1, padding='pre')\n",
    "        \n",
    "        predicted = model.predict_classes(subtokens, verbose=0)\n",
    "        \n",
    "        output_word = processor.decode_ids([int(predicted)])\n",
    "        \n",
    "        seed_text += \" \" + output_word\n",
    "    return seed_text.title()"
   ]
  },
  {
   "cell_type": "code",
   "execution_count": 123,
   "metadata": {},
   "outputs": [
    {
     "name": "stdout",
     "output_type": "stream",
     "text": [
      "What You ' Rote                      \n"
     ]
    }
   ],
   "source": [
    "print(generate_text(sp, 'what', 25, model, max_len))"
   ]
  },
  {
   "cell_type": "code",
   "execution_count": null,
   "metadata": {},
   "outputs": [],
   "source": []
  }
 ],
 "metadata": {
  "kernelspec": {
   "display_name": "Python 3",
   "language": "python",
   "name": "python3"
  },
  "language_info": {
   "codemirror_mode": {
    "name": "ipython",
    "version": 3
   },
   "file_extension": ".py",
   "mimetype": "text/x-python",
   "name": "python",
   "nbconvert_exporter": "python",
   "pygments_lexer": "ipython3",
   "version": "3.6.4"
  }
 },
 "nbformat": 4,
 "nbformat_minor": 2
}
