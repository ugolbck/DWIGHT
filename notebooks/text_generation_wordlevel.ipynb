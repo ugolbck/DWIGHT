{
 "cells": [
  {
   "cell_type": "code",
   "execution_count": 1,
   "metadata": {},
   "outputs": [
    {
     "name": "stderr",
     "output_type": "stream",
     "text": [
      "Using TensorFlow backend.\n"
     ]
    }
   ],
   "source": [
    "# keras module for building LSTM \n",
    "from keras.preprocessing.sequence import pad_sequences\n",
    "from keras.layers import Embedding, LSTM, Dense, Dropout\n",
    "from keras.preprocessing.text import Tokenizer\n",
    "from keras.callbacks import EarlyStopping\n",
    "from keras.models import Sequential\n",
    "import keras.utils as ku \n",
    "\n",
    "# set seeds for reproducability\n",
    "from numpy.random import seed\n",
    "seed(1)\n",
    "\n",
    "import pandas as pd\n",
    "import numpy as np\n",
    "import string, os\n",
    "\n",
    "import warnings\n",
    "warnings.filterwarnings(\"ignore\")\n",
    "warnings.simplefilter(action='ignore', category=FutureWarning)"
   ]
  },
  {
   "cell_type": "code",
   "execution_count": 2,
   "metadata": {},
   "outputs": [],
   "source": [
    "def text_to_ids(corpus):\n",
    "    tokenizer.fit_on_texts(corpus)\n",
    "    total_words = len(tokenizer.word_index) + 1\n",
    "    \n",
    "    corpus_as_ids = []\n",
    "    for line in corpus:\n",
    "        tokens = tokenizer.texts_to_sequences([line])[0]\n",
    "        for i in range(1, len(tokens)):\n",
    "            n_gram_sequence = tokens[:i+1]\n",
    "            corpus_as_ids.append(n_gram_sequence)\n",
    "    return corpus_as_ids, total_words"
   ]
  },
  {
   "cell_type": "code",
   "execution_count": 3,
   "metadata": {},
   "outputs": [],
   "source": [
    "tokenizer = Tokenizer()\n",
    "\n",
    "with open('../data/raw/dwight-s1.txt', 'r') as input_d:\n",
    "    corpus = input_d.readlines()\n",
    "\n",
    "X, len_vocab = text_to_ids(corpus)"
   ]
  },
  {
   "cell_type": "code",
   "execution_count": 4,
   "metadata": {},
   "outputs": [],
   "source": [
    "import pickle\n",
    "\n",
    "# saving\n",
    "with open('../models/tokenizer_dwight_wordlevel.pickle', 'wb') as handle:\n",
    "    pickle.dump(tokenizer, handle, protocol=pickle.HIGHEST_PROTOCOL)"
   ]
  },
  {
   "cell_type": "code",
   "execution_count": 5,
   "metadata": {},
   "outputs": [],
   "source": [
    "def sequence_padding(tok_corpus):\n",
    "    max_len = max([len(x) for x in tok_corpus])\n",
    "    tok_corpus = np.array(pad_sequences(tok_corpus, maxlen=max_len, padding='pre'))\n",
    "    \n",
    "    predictors, label = tok_corpus[:,:-1], tok_corpus[:,-1]\n",
    "    label = ku.to_categorical(label, num_classes=len_vocab)\n",
    "    return predictors, label, max_len\n",
    "\n",
    "predictors, label, max_len = sequence_padding(X)"
   ]
  },
  {
   "cell_type": "code",
   "execution_count": 12,
   "metadata": {},
   "outputs": [
    {
     "name": "stdout",
     "output_type": "stream",
     "text": [
      "Model: \"sequential_1\"\n",
      "_________________________________________________________________\n",
      "Layer (type)                 Output Shape              Param #   \n",
      "=================================================================\n",
      "embedding_1 (Embedding)      (None, 116, 10)           29230     \n",
      "_________________________________________________________________\n",
      "lstm_1 (LSTM)                (None, 100)               44400     \n",
      "_________________________________________________________________\n",
      "dropout_1 (Dropout)          (None, 100)               0         \n",
      "_________________________________________________________________\n",
      "dense_1 (Dense)              (None, 2923)              295223    \n",
      "=================================================================\n",
      "Total params: 368,853\n",
      "Trainable params: 368,853\n",
      "Non-trainable params: 0\n",
      "_________________________________________________________________\n"
     ]
    }
   ],
   "source": [
    "def create_model(max_sequence_len, total_words):\n",
    "    input_len = max_sequence_len - 1\n",
    "    model = Sequential()\n",
    "    \n",
    "    # Add Input Embedding Layer\n",
    "    model.add(Embedding(total_words, 10, input_length=input_len))\n",
    "    \n",
    "    # Add Hidden Layer 1 - LSTM Layer\n",
    "    model.add(LSTM(100))\n",
    "    model.add(Dropout(0.1))\n",
    "    \n",
    "    # Add Output Layer\n",
    "    model.add(Dense(total_words, activation='softmax'))\n",
    "\n",
    "    model.compile(loss='categorical_crossentropy', optimizer='adam')\n",
    "    \n",
    "    return model\n",
    "\n",
    "model = create_model(max_len, len_vocab)\n",
    "model.summary()"
   ]
  },
  {
   "cell_type": "code",
   "execution_count": 14,
   "metadata": {},
   "outputs": [
    {
     "name": "stdout",
     "output_type": "stream",
     "text": [
      "Epoch 1/10\n",
      "14390/14390 [==============================] - 36s 3ms/step - loss: 6.6272\n",
      "Epoch 2/10\n",
      "14390/14390 [==============================] - 40s 3ms/step - loss: 6.3480\n",
      "Epoch 3/10\n",
      "14390/14390 [==============================] - 37s 3ms/step - loss: 6.2520\n",
      "Epoch 4/10\n",
      "14390/14390 [==============================] - 36s 2ms/step - loss: 6.1489\n",
      "Epoch 5/10\n",
      "14390/14390 [==============================] - 37s 3ms/step - loss: 6.0362\n",
      "Epoch 6/10\n",
      "14390/14390 [==============================] - 39s 3ms/step - loss: 5.9277\n",
      "Epoch 7/10\n",
      "14390/14390 [==============================] - 41s 3ms/step - loss: 5.8153\n",
      "Epoch 8/10\n",
      "14390/14390 [==============================] - 38s 3ms/step - loss: 5.6909\n",
      "Epoch 9/10\n",
      "14390/14390 [==============================] - 37s 3ms/step - loss: 5.5562\n",
      "Epoch 10/10\n",
      "14390/14390 [==============================] - 35s 2ms/step - loss: 5.4265\n"
     ]
    },
    {
     "data": {
      "text/plain": [
       "<keras.callbacks.callbacks.History at 0x138a346d8>"
      ]
     },
     "execution_count": 14,
     "metadata": {},
     "output_type": "execute_result"
    }
   ],
   "source": [
    "model.fit(predictors, label, epochs=10, verbose=1)"
   ]
  },
  {
   "cell_type": "code",
   "execution_count": 6,
   "metadata": {},
   "outputs": [],
   "source": [
    "def generate_text(seed_text, next_words, model, max_sequence_len):\n",
    "    for _ in range(next_words):\n",
    "        tokens = tokenizer.texts_to_sequences([seed_text])\n",
    "        tokens = pad_sequences(tokens, maxlen=max_sequence_len-1, padding='pre')\n",
    "        \n",
    "        predicted = model.predict_classes(tokens, verbose=0)\n",
    "        \n",
    "        output_word = \"\"\n",
    "        for word, index in tokenizer.word_index.items():\n",
    "            if index == predicted:\n",
    "                output_word = word\n",
    "                break\n",
    "        seed_text += \" \" + output_word\n",
    "    return seed_text"
   ]
  }
 ],
 "metadata": {
  "kernelspec": {
   "display_name": "Python 3",
   "language": "python",
   "name": "python3"
  },
  "language_info": {
   "codemirror_mode": {
    "name": "ipython",
    "version": 3
   },
   "file_extension": ".py",
   "mimetype": "text/x-python",
   "name": "python",
   "nbconvert_exporter": "python",
   "pygments_lexer": "ipython3",
   "version": "3.6.4"
  }
 },
 "nbformat": 4,
 "nbformat_minor": 2
}